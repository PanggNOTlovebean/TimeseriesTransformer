{
 "cells": [
  {
   "cell_type": "code",
   "execution_count": 1,
   "metadata": {},
   "outputs": [],
   "source": [
    "import os ,datetime\n",
    "os.environ[\"CUDA_VISIBLE_DEVICES\"] = \"-1\"\n",
    "\n",
    "import numpy as np\n",
    "import pandas as  pd\n",
    "import tensorflow as tf\n",
    "from tensorflow.keras.models import *\n",
    "from tensorflow.keras.layers import *\n",
    "import matplotlib.pyplot as plt\n",
    "\n",
    "batch_size = 32\n",
    "seq_len = 49\n",
    "\n",
    "d_k = 256\n",
    "d_v = 256\n",
    "n_heads = 12\n",
    "ff_dim = 256"
   ]
  },
  {
   "cell_type": "code",
   "execution_count": 2,
   "metadata": {},
   "outputs": [
    {
     "name": "stdout",
     "output_type": "stream",
     "text": [
      "            Date     Close\n",
      "10    1991-01-16  0.214099\n",
      "11    1991-01-17  0.208917\n",
      "12    1991-01-18  0.203710\n",
      "13    1991-01-21  0.201251\n",
      "14    1991-01-22  0.196765\n",
      "...          ...       ...\n",
      "7306  2020-11-24  0.199378\n",
      "7307  2020-11-25  0.195838\n",
      "7308  2020-11-26  0.197547\n",
      "7309  2020-11-27  0.208043\n",
      "7310  2020-11-30  0.199669\n",
      "\n",
      "[7301 rows x 2 columns]\n"
     ]
    },
    {
     "name": "stderr",
     "output_type": "stream",
     "text": [
      "D:\\Users\\pangg\\anaconda3\\envs\\transformer\\lib\\site-packages\\pandas\\core\\frame.py:4169: SettingWithCopyWarning: \n",
      "A value is trying to be set on a copy of a slice from a DataFrame\n",
      "\n",
      "See the caveats in the documentation: https://pandas.pydata.org/pandas-docs/stable/user_guide/indexing.html#returning-a-view-versus-a-copy\n",
      "  errors=errors,\n"
     ]
    }
   ],
   "source": [
    "\" data download  https://finance.yahoo.com/quote/IBM/history?period1=950400&period2=1594512000&interval=1d&filter=history&frequency=1d\"\n",
    "\n",
    "df = pd.read_csv('./input/szzs.csv', delimiter=',', usecols=['Date', 'Close'])\n",
    "\n",
    "\n",
    "\n",
    "# Apply moving average with a window of 10 days to all columns\n",
    "df[[ 'Close']] = df[[ 'Close']].rolling(10).mean() \n",
    "\n",
    "# Drop all rows with NaN values\n",
    "df.dropna(how='any', axis=0, inplace=True) \n",
    "\n",
    "\n",
    "'''Calculate percentage change'''\n",
    "\n",
    "\n",
    "df['Close'] = df['Close'].pct_change() # Create arithmetic returns column\n",
    "\n",
    "\n",
    "df.dropna(how='any', axis=0, inplace=True) # Drop all rows with NaN values\n",
    "\n",
    "\n",
    "'''Normalize price columns'''\n",
    "\n",
    "min_return = min(df[['Close']].min(axis=0))\n",
    "max_return = max(df[['Close']].max(axis=0))\n",
    "\n",
    "# Min-max normalize price columns (0-1 range)\n",
    "\n",
    "df['Close'] = (df['Close'] - min_return) / (max_return - min_return)\n",
    "\n",
    "\n",
    "'''Create training, validation and test split'''\n",
    "print(df)\n",
    "times = sorted(df.index.values)\n",
    "last_30pct = sorted(df.index.values)[-int(0.3*len(times))] # Last 30% of series\n",
    "\n",
    "df_train = df[(df.index < last_30pct)]  # Training data are 80% of total data\n",
    "df_val = df[(df.index >= last_30pct)]\n",
    "df_test = df[(df.index >= last_30pct)]\n",
    "test_tick=df[(df.index >= last_30pct)]['Date'][49:]\n",
    "# Remove date column\n",
    "df_train.drop(columns=['Date'], inplace=True)\n",
    "df_val.drop(columns=['Date'], inplace=True)\n",
    "df_test.drop(columns=['Date'], inplace=True)\n",
    "\n",
    "# Convert pandas columns into arrays\n",
    "\n",
    "train_data = df_train.values\n",
    "val_data = df_val.values\n",
    "test_data = df_test.values\n",
    "\n",
    "# Training data\n",
    "X_train, y_train = [], []\n",
    "for i in range(seq_len, len(train_data)):\n",
    "  X_train.append(train_data[i-seq_len:i]) # Chunks of training data with a length of 128 df-rows\n",
    "  y_train.append(train_data[:, 0][i]) #Value of 4th column (Close Price) of df-row 128+1\n",
    "X_train, y_train = np.array(X_train), np.array(y_train)\n",
    "\n",
    "###############################################################################\n",
    "\n",
    "# Validation data\n",
    "X_val, y_val = [], []\n",
    "for i in range(seq_len, len(val_data)):\n",
    "    X_val.append(val_data[i-seq_len:i])\n",
    "    y_val.append(val_data[:, 0][i])\n",
    "X_val, y_val = np.array(X_val), np.array(y_val)\n",
    "\n",
    "###############################################################################\n",
    "\n",
    "# Test data\n",
    "X_test, y_test = [], []\n",
    "for i in range(seq_len, len(test_data)):\n",
    "    X_test.append(test_data[i-seq_len:i])\n",
    "    y_test.append(test_data[:, 0][i])    \n",
    "X_test, y_test = np.array(X_test), np.array(y_test)\n"
   ]
  },
  {
   "cell_type": "code",
   "execution_count": 6,
   "metadata": {},
   "outputs": [
    {
     "name": "stdout",
     "output_type": "stream",
     "text": [
      "Train on 5062 samples, validate on 2141 samples\n",
      "Epoch 1/30\n",
      "5056/5062 [============================>.] - ETA: 0s - loss: 0.0050 - mae: 0.0451 - mape: 39663.0234\n",
      "Epoch 00001: val_loss improved from inf to 0.00060, saving model to Transformer+TimeEmbedding_avg.hdf5\n",
      "5062/5062 [==============================] - 74s 15ms/sample - loss: 0.0050 - mae: 0.0451 - mape: 39616.0273 - val_loss: 5.9631e-04 - val_mae: 0.0174 - val_mape: 9.8806\n",
      "Epoch 2/30\n",
      "5056/5062 [============================>.] - ETA: 0s - loss: 0.0025 - mae: 0.0314 - mape: 40054.2070\n",
      "Epoch 00002: val_loss improved from 0.00060 to 0.00059, saving model to Transformer+TimeEmbedding_avg.hdf5\n",
      "5062/5062 [==============================] - 47s 9ms/sample - loss: 0.0025 - mae: 0.0314 - mape: 40006.7422 - val_loss: 5.9429e-04 - val_mae: 0.0173 - val_mape: 9.8605\n",
      "Epoch 3/30\n",
      "5056/5062 [============================>.] - ETA: 0s - loss: 0.0025 - mae: 0.0313 - mape: 34636.3945\n",
      "Epoch 00003: val_loss did not improve from 0.00059\n",
      "5062/5062 [==============================] - 44s 9ms/sample - loss: 0.0025 - mae: 0.0313 - mape: 34595.3555 - val_loss: 6.3275e-04 - val_mae: 0.0174 - val_mape: 10.5125\n",
      "Epoch 4/30\n",
      "5056/5062 [============================>.] - ETA: 0s - loss: 0.0025 - mae: 0.0312 - mape: 41305.6133\n",
      "Epoch 00004: val_loss improved from 0.00059 to 0.00058, saving model to Transformer+TimeEmbedding_avg.hdf5\n",
      "5062/5062 [==============================] - 45s 9ms/sample - loss: 0.0025 - mae: 0.0312 - mape: 41256.6719 - val_loss: 5.7655e-04 - val_mae: 0.0164 - val_mape: 9.6840\n",
      "Epoch 5/30\n",
      "5056/5062 [============================>.] - ETA: 0s - loss: 0.0025 - mae: 0.0312 - mape: 38842.2969\n",
      "Epoch 00005: val_loss improved from 0.00058 to 0.00058, saving model to Transformer+TimeEmbedding_avg.hdf5\n",
      "5062/5062 [==============================] - 45s 9ms/sample - loss: 0.0025 - mae: 0.0312 - mape: 38796.2656 - val_loss: 5.7574e-04 - val_mae: 0.0165 - val_mape: 9.6727\n",
      "Epoch 6/30\n",
      "5056/5062 [============================>.] - ETA: 0s - loss: 0.0024 - mae: 0.0309 - mape: 38667.2148\n",
      "Epoch 00006: val_loss did not improve from 0.00058\n",
      "5062/5062 [==============================] - 45s 9ms/sample - loss: 0.0024 - mae: 0.0309 - mape: 38621.3945 - val_loss: 5.7857e-04 - val_mae: 0.0164 - val_mape: 9.7196\n",
      "Epoch 7/30\n",
      "5056/5062 [============================>.] - ETA: 0s - loss: 0.0024 - mae: 0.0307 - mape: 37945.4727\n",
      "Epoch 00007: val_loss did not improve from 0.00058\n",
      "5062/5062 [==============================] - 45s 9ms/sample - loss: 0.0024 - mae: 0.0307 - mape: 37900.5117 - val_loss: 5.7724e-04 - val_mae: 0.0167 - val_mape: 9.6811\n",
      "Epoch 8/30\n",
      "5056/5062 [============================>.] - ETA: 0s - loss: 0.0024 - mae: 0.0308 - mape: 41499.3750\n",
      "Epoch 00008: val_loss did not improve from 0.00058\n",
      "5062/5062 [==============================] - 45s 9ms/sample - loss: 0.0024 - mae: 0.0308 - mape: 41450.2109 - val_loss: 5.9986e-04 - val_mae: 0.0175 - val_mape: 9.9161\n",
      "Epoch 9/30\n",
      "5056/5062 [============================>.] - ETA: 0s - loss: 0.0025 - mae: 0.0308 - mape: 38700.8555\n",
      "Epoch 00009: val_loss did not improve from 0.00058\n",
      "5062/5062 [==============================] - 46s 9ms/sample - loss: 0.0025 - mae: 0.0308 - mape: 38655.0117 - val_loss: 6.7282e-04 - val_mae: 0.0183 - val_mape: 11.0492\n",
      "Epoch 10/30\n",
      "5056/5062 [============================>.] - ETA: 0s - loss: 0.0024 - mae: 0.0308 - mape: 37659.5625\n",
      "Epoch 00010: val_loss did not improve from 0.00058\n",
      "5062/5062 [==============================] - 45s 9ms/sample - loss: 0.0024 - mae: 0.0308 - mape: 37614.9336 - val_loss: 5.8301e-04 - val_mae: 0.0165 - val_mape: 9.7867\n",
      "Epoch 11/30\n",
      "5056/5062 [============================>.] - ETA: 0s - loss: 0.0024 - mae: 0.0310 - mape: 39062.7695\n",
      "Epoch 00011: val_loss did not improve from 0.00058\n",
      "5062/5062 [==============================] - 45s 9ms/sample - loss: 0.0024 - mae: 0.0309 - mape: 39016.4766 - val_loss: 5.8472e-04 - val_mae: 0.0165 - val_mape: 9.8093\n",
      "Epoch 12/30\n",
      "5056/5062 [============================>.] - ETA: 0s - loss: 0.0024 - mae: 0.0308 - mape: 40170.9883\n",
      "Epoch 00012: val_loss did not improve from 0.00058\n",
      "5062/5062 [==============================] - 45s 9ms/sample - loss: 0.0024 - mae: 0.0309 - mape: 40123.4297 - val_loss: 6.4621e-04 - val_mae: 0.0177 - val_mape: 10.6947\n",
      "Epoch 13/30\n",
      "5056/5062 [============================>.] - ETA: 0s - loss: 0.0025 - mae: 0.0307 - mape: 35876.2539\n",
      "Epoch 00013: val_loss did not improve from 0.00058\n",
      "5062/5062 [==============================] - 45s 9ms/sample - loss: 0.0025 - mae: 0.0307 - mape: 35833.7500 - val_loss: 5.8394e-04 - val_mae: 0.0165 - val_mape: 9.7995\n",
      "Epoch 14/30\n",
      "5056/5062 [============================>.] - ETA: 0s - loss: 0.0024 - mae: 0.0303 - mape: 36373.9336\n",
      "Epoch 00014: val_loss did not improve from 0.00058\n",
      "5062/5062 [==============================] - 48s 9ms/sample - loss: 0.0024 - mae: 0.0303 - mape: 36330.8359 - val_loss: 5.8388e-04 - val_mae: 0.0165 - val_mape: 9.7981\n",
      "Epoch 15/30\n",
      "5056/5062 [============================>.] - ETA: 0s - loss: 0.0024 - mae: 0.0306 - mape: 38923.4805\n",
      "Epoch 00015: val_loss did not improve from 0.00058\n",
      "5062/5062 [==============================] - 46s 9ms/sample - loss: 0.0024 - mae: 0.0307 - mape: 38877.4102 - val_loss: 5.8429e-04 - val_mae: 0.0170 - val_mape: 9.7578\n",
      "Epoch 16/30\n",
      "5056/5062 [============================>.] - ETA: 0s - loss: 0.0024 - mae: 0.0305 - mape: 39753.9961\n",
      "Epoch 00016: val_loss did not improve from 0.00058\n",
      "5062/5062 [==============================] - 46s 9ms/sample - loss: 0.0024 - mae: 0.0305 - mape: 39706.8984 - val_loss: 5.7628e-04 - val_mae: 0.0164 - val_mape: 9.6904\n",
      "Epoch 17/30\n",
      "5056/5062 [============================>.] - ETA: 0s - loss: 0.0023 - mae: 0.0299 - mape: 40288.6914\n",
      "Epoch 00017: val_loss improved from 0.00058 to 0.00043, saving model to Transformer+TimeEmbedding_avg.hdf5\n",
      "5062/5062 [==============================] - 46s 9ms/sample - loss: 0.0023 - mae: 0.0299 - mape: 40240.9531 - val_loss: 4.2892e-04 - val_mae: 0.0157 - val_mape: 9.2964\n",
      "Epoch 18/30\n",
      "5056/5062 [============================>.] - ETA: 0s - loss: 0.0021 - mae: 0.0290 - mape: 40316.9297\n",
      "Epoch 00018: val_loss improved from 0.00043 to 0.00022, saving model to Transformer+TimeEmbedding_avg.hdf5\n",
      "5062/5062 [==============================] - 46s 9ms/sample - loss: 0.0021 - mae: 0.0289 - mape: 40269.1484 - val_loss: 2.2016e-04 - val_mae: 0.0102 - val_mape: 5.9436\n",
      "Epoch 19/30\n",
      "5056/5062 [============================>.] - ETA: 0s - loss: 0.0013 - mae: 0.0227 - mape: 35429.8125\n",
      "Epoch 00019: val_loss did not improve from 0.00022\n",
      "5062/5062 [==============================] - 45s 9ms/sample - loss: 0.0013 - mae: 0.0227 - mape: 35387.8438 - val_loss: 3.6095e-04 - val_mae: 0.0158 - val_mape: 8.4229\n",
      "Epoch 20/30\n",
      "5056/5062 [============================>.] - ETA: 0s - loss: 0.0011 - mae: 0.0206 - mape: 34195.1992\n",
      "Epoch 00020: val_loss improved from 0.00022 to 0.00020, saving model to Transformer+TimeEmbedding_avg.hdf5\n",
      "5062/5062 [==============================] - 46s 9ms/sample - loss: 0.0011 - mae: 0.0206 - mape: 34154.6758 - val_loss: 1.9591e-04 - val_mae: 0.0106 - val_mape: 5.8020\n",
      "Epoch 21/30\n",
      "5056/5062 [============================>.] - ETA: 0s - loss: 9.3118e-04 - mae: 0.0186 - mape: 23493.8066\n",
      "Epoch 00021: val_loss improved from 0.00020 to 0.00014, saving model to Transformer+TimeEmbedding_avg.hdf5\n",
      "5062/5062 [==============================] - 46s 9ms/sample - loss: 9.3122e-04 - mae: 0.0186 - mape: 23465.9766 - val_loss: 1.3879e-04 - val_mae: 0.0077 - val_mape: 4.5208\n",
      "Epoch 22/30\n",
      "5056/5062 [============================>.] - ETA: 0s - loss: 8.7262e-04 - mae: 0.0176 - mape: 25925.0625\n",
      "Epoch 00022: val_loss did not improve from 0.00014\n",
      "5062/5062 [==============================] - 45s 9ms/sample - loss: 8.7443e-04 - mae: 0.0177 - mape: 25894.3672 - val_loss: 1.6680e-04 - val_mae: 0.0087 - val_mape: 5.2428\n",
      "Epoch 23/30\n",
      "5056/5062 [============================>.] - ETA: 0s - loss: 8.3117e-04 - mae: 0.0176 - mape: 24010.6855\n",
      "Epoch 00023: val_loss did not improve from 0.00014\n",
      "5062/5062 [==============================] - 45s 9ms/sample - loss: 8.3035e-04 - mae: 0.0176 - mape: 23982.2324 - val_loss: 1.6656e-04 - val_mae: 0.0090 - val_mape: 5.1428\n",
      "Epoch 24/30\n"
     ]
    },
    {
     "name": "stdout",
     "output_type": "stream",
     "text": [
      "5056/5062 [============================>.] - ETA: 0s - loss: 8.1106e-04 - mae: 0.0175 - mape: 31628.4551\n",
      "Epoch 00024: val_loss did not improve from 0.00014\n",
      "5062/5062 [==============================] - 45s 9ms/sample - loss: 8.1108e-04 - mae: 0.0175 - mape: 31590.9766 - val_loss: 1.8098e-04 - val_mae: 0.0104 - val_mape: 5.5910\n",
      "Epoch 25/30\n",
      "5056/5062 [============================>.] - ETA: 0s - loss: 7.8138e-04 - mae: 0.0168 - mape: 27164.2559\n",
      "Epoch 00025: val_loss did not improve from 0.00014\n",
      "5062/5062 [==============================] - 46s 9ms/sample - loss: 7.8069e-04 - mae: 0.0168 - mape: 27132.0645 - val_loss: 1.9218e-04 - val_mae: 0.0109 - val_mape: 5.8918\n",
      "Epoch 26/30\n",
      "5056/5062 [============================>.] - ETA: 0s - loss: 7.6827e-04 - mae: 0.0161 - mape: 22407.6523\n",
      "Epoch 00026: val_loss improved from 0.00014 to 0.00012, saving model to Transformer+TimeEmbedding_avg.hdf5\n",
      "5062/5062 [==============================] - 47s 9ms/sample - loss: 7.6817e-04 - mae: 0.0161 - mape: 22381.1016 - val_loss: 1.2333e-04 - val_mae: 0.0075 - val_mape: 4.3704\n",
      "Epoch 27/30\n",
      "5056/5062 [============================>.] - ETA: 0s - loss: 7.1727e-04 - mae: 0.0159 - mape: 23085.5312\n",
      "Epoch 00027: val_loss did not improve from 0.00012\n",
      "5062/5062 [==============================] - 47s 9ms/sample - loss: 7.1711e-04 - mae: 0.0159 - mape: 23058.1777 - val_loss: 1.2407e-04 - val_mae: 0.0077 - val_mape: 4.2710\n",
      "Epoch 28/30\n",
      "5056/5062 [============================>.] - ETA: 0s - loss: 6.7452e-04 - mae: 0.0155 - mape: 40639.0938\n",
      "Epoch 00028: val_loss improved from 0.00012 to 0.00012, saving model to Transformer+TimeEmbedding_avg.hdf5\n",
      "5062/5062 [==============================] - 46s 9ms/sample - loss: 6.7407e-04 - mae: 0.0155 - mape: 40590.9336 - val_loss: 1.1853e-04 - val_mae: 0.0072 - val_mape: 4.1681\n",
      "Epoch 29/30\n",
      "5056/5062 [============================>.] - ETA: 0s - loss: 6.3553e-04 - mae: 0.0150 - mape: 36451.2773\n",
      "Epoch 00029: val_loss did not improve from 0.00012\n",
      "5062/5062 [==============================] - 47s 9ms/sample - loss: 6.3496e-04 - mae: 0.0150 - mape: 36408.0781 - val_loss: 1.8972e-04 - val_mae: 0.0109 - val_mape: 5.8644\n",
      "Epoch 30/30\n",
      "5056/5062 [============================>.] - ETA: 0s - loss: 6.6005e-04 - mae: 0.0150 - mape: 21303.6660\n",
      "Epoch 00030: val_loss did not improve from 0.00012\n",
      "5062/5062 [==============================] - 48s 10ms/sample - loss: 6.5946e-04 - mae: 0.0150 - mape: 21278.4219 - val_loss: 1.3858e-04 - val_mae: 0.0086 - val_mape: 4.9078\n"
     ]
    }
   ],
   "source": [
    "import model\n",
    "model = model.create_model()\n",
    "callback = tf.keras.callbacks.ModelCheckpoint('Transformer+TimeEmbedding_avg.hdf5', \n",
    "                                              monitor='val_loss', \n",
    "                                              save_best_only=True, \n",
    "                                              verbose=1)\n",
    "history = model.fit(X_train, y_train, \n",
    "                    batch_size=batch_size,  \n",
    "                    epochs=30, \n",
    "                    steps_per_epoch=len(X_train)/batch_size,\n",
    "                    callbacks=[callback],\n",
    "                    validation_data=(X_val, y_val)) \n",
    "model.load_weights('Transformer+TimeEmbedding_avg.hdf5')"
   ]
  },
  {
   "cell_type": "code",
   "execution_count": 17,
   "metadata": {},
   "outputs": [
    {
     "data": {
      "image/png": "[encoded data removed]",
      "text/plain": [
       "<Figure size 432x288 with 1 Axes>"
      ]
     },
     "metadata": {
      "needs_background": "light"
     },
     "output_type": "display_data"
    }
   ],
   "source": [
    "import matplotlib.pyplot as plt\n",
    "fig=plt.figure()\n",
    "ax=plt.subplot(111)\n",
    "\n",
    "ax2=plt.plot(history.history['val_loss'],label='test')\n",
    "plt.legend()\n",
    "plt.show()"
   ]
  },
  {
   "cell_type": "code",
   "execution_count": 22,
   "metadata": {},
   "outputs": [
    {
     "data": {
      "image/png": "[encoded data removed]",
      "text/plain": [
       "<Figure size 432x288 with 1 Axes>"
      ]
     },
     "metadata": {
      "needs_background": "light"
     },
     "output_type": "display_data"
    }
   ],
   "source": [
    "y=model.predict(X_test)\n",
    "fig=plt.figure()\n",
    "import datetime\n",
    "\n",
    "# print(test_tick)\n",
    "# test_tick=test_tick.apply(lambda x:datetime.datetime.strptime(x,'%Y-%m-%d'))\n",
    "\n",
    "\n",
    "true_y=y*(max_return - min_return)+min_return\n",
    "true_ytest=y_test*(max_return - min_return)+min_return\n",
    "df = pd.read_csv('./input/szzs.csv', delimiter=',', usecols=['Date','Close'])\n",
    "\n",
    "real_close=df[(df.index >= last_30pct)]['Close'][48:-1].values\n",
    "pre_close=[]\n",
    "\n",
    "for i in range(len(real_close)):\n",
    "\tpredict_close=real_close[i]*(1+true_y[i])\n",
    "\tpre_close.append(predict_close)\n",
    "\n",
    "plt.plot(test_tick[-50:],df[(df.index >= last_30pct)]['Close'][49:].values[-50:],label=\"true\",linewidth=1)\n",
    "plt.plot(test_tick[-50:],pre_close[-50:],label=\"predict\",linewidth=1)\n",
    "    \n",
    "plt.legend()\n",
    "plt.show()"
   ]
  },
  {
   "cell_type": "code",
   "execution_count": 33,
   "metadata": {},
   "outputs": [],
   "source": [
    "result_df=pd.DataFrame()\n",
    "result_df['date']=test_tick\n",
    "result_df['true']=df[(df.index >= last_30pct)]['Close']\n",
    "pre_closed=[]\n",
    "for i in range(len(pre_close)):\n",
    "    pre_closed.append(pre_close[i][0])\n",
    "result_df['predict']=pre_closed\n",
    "result_df.to_csv('close_result.csv')"
   ]
  },
  {
   "cell_type": "code",
   "execution_count": 27,
   "metadata": {},
   "outputs": [],
   "source": [
    "def RMSE(y1,y2):\n",
    "    return np.sqrt(np.mean((y1-y2)**2))\n",
    "def MAE(y1,y2):\n",
    "    return np.mean(np.abs(y1-y2))\n",
    "def MAPE(y1,y2):\n",
    "    return np.mean(np.abs((y1-y2)/y1))*100\n",
    "def RMSPE(y1,y2):\n",
    "    return np.sqrt(np.mean(((y1-y2)/y1)**2))*100"
   ]
  },
  {
   "cell_type": "code",
   "execution_count": 38,
   "metadata": {},
   "outputs": [
    {
     "name": "stdout",
     "output_type": "stream",
     "text": [
      "{'rmse': 45.11127776603697, 'mae': 27.590888414164677, 'mape': 0.9385370968762838, 'rmspe': 1.4209645446428687}\n"
     ]
    }
   ],
   "source": [
    "loss_result={}\n",
    "loss_result['rmse']=RMSE(result_df['true'].values,result_df['predict'].values)\n",
    "loss_result['mae']=MAE(result_df['true'].values,result_df['predict'].values)\n",
    "loss_result['mape']=MAPE(result_df['true'].values,result_df['predict'].values)\n",
    "loss_result['rmspe']=RMSPE(result_df['true'].values,result_df['predict'].values)\n",
    "print(loss_result)\n"
   ]
  },
  {
   "cell_type": "code",
   "execution_count": 42,
   "metadata": {},
   "outputs": [
    {
     "name": "stdout",
     "output_type": "stream",
     "text": [
      "        loss       mae          mape  val_loss   val_mae   val_mape\n",
      "0   0.004978  0.045097  39616.027344  0.000596  0.017365   9.880606\n",
      "1   0.002509  0.031418  40006.742188  0.000594  0.017307   9.860505\n",
      "2   0.002483  0.031303  34595.355469  0.000633  0.017439  10.512489\n",
      "3   0.002485  0.031179  41256.671875  0.000577  0.016443   9.684011\n",
      "4   0.002483  0.031154  38796.265625  0.000576  0.016457   9.672719\n",
      "5   0.002447  0.030886  38621.394531  0.000579  0.016431   9.719605\n",
      "6   0.002441  0.030744  37900.511719  0.000577  0.016668   9.681122\n",
      "7   0.002442  0.030784  41450.210938  0.000600  0.017469   9.916084\n",
      "8   0.002457  0.030806  38655.011719  0.000673  0.018278  11.049236\n",
      "9   0.002432  0.030788  37614.933594  0.000583  0.016475   9.786697\n",
      "10  0.002443  0.030935  39016.476562  0.000585  0.016498   9.809278\n",
      "11  0.002446  0.030859  40123.429688  0.000646  0.017717  10.694695\n",
      "12  0.002452  0.030685  35833.750000  0.000584  0.016487   9.799478\n",
      "13  0.002419  0.030301  36330.835938  0.000584  0.016487   9.798081\n",
      "14  0.002425  0.030663  38877.410156  0.000584  0.016977   9.757781\n",
      "15  0.002429  0.030545  39706.898438  0.000576  0.016417   9.690358\n",
      "16  0.002298  0.029862  40240.953125  0.000429  0.015658   9.296410\n",
      "17  0.002084  0.028928  40269.148438  0.000220  0.010187   5.943564\n",
      "18  0.001299  0.022679  35387.843750  0.000361  0.015847   8.422863\n",
      "19  0.001122  0.020605  34154.675781  0.000196  0.010648   5.801974\n",
      "20  0.000931  0.018576  23465.976562  0.000139  0.007711   4.520778\n",
      "21  0.000874  0.017672  25894.367188  0.000167  0.008743   5.242816\n",
      "22  0.000830  0.017615  23982.232422  0.000167  0.008987   5.142801\n",
      "23  0.000811  0.017471  31590.976562  0.000181  0.010374   5.590968\n",
      "24  0.000781  0.016798  27132.064453  0.000192  0.010921   5.891774\n",
      "25  0.000768  0.016121  22381.101562  0.000123  0.007530   4.370396\n",
      "26  0.000717  0.015896  23058.177734  0.000124  0.007659   4.271017\n",
      "27  0.000674  0.015527  40590.933594  0.000119  0.007244   4.168149\n",
      "28  0.000635  0.015007  36408.078125  0.000190  0.010949   5.864366\n",
      "29  0.000659  0.014992  21278.421875  0.000139  0.008551   4.907837\n"
     ]
    }
   ],
   "source": [
    "loss_epoch=pd.DataFrame(history.history)\n",
    "loss_epoch.to_csv('./epoch_loss.csv')\n",
    "print(loss_epoch)"
   ]
  }
 ],
 "metadata": {
  "kernelspec": {
   "display_name": "transformer",
   "language": "python",
   "name": "transformer"
  },
  "language_info": {
   "codemirror_mode": {
    "name": "ipython",
    "version": 3
   },
   "file_extension": ".py",
   "mimetype": "text/x-python",
   "name": "python",
   "nbconvert_exporter": "python",
   "pygments_lexer": "ipython3",
   "version": "3.6.12"
  }
 },
 "nbformat": 4,
 "nbformat_minor": 2
}
